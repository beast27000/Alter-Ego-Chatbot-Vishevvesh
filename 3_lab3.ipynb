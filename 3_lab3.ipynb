{
 "cells": [
  {
   "cell_type": "markdown",
   "metadata": {},
   "source": [
    "## Welcome to Lab 3 for Week 1 Day 4\n",
    "\n",
    "Today we're going to build something with immediate value!\n",
    "\n",
    "In the folder `me` I've put a single file `linkedin.pdf` - it's a PDF download of my LinkedIn profile.\n",
    "\n",
    "Please replace it with yours!\n",
    "\n",
    "I've also made a file called `summary.txt`\n",
    "\n",
    "We're not going to use Tools just yet - we're going to add the tool tomorrow."
   ]
  },
  {
   "cell_type": "markdown",
   "metadata": {},
   "source": [
    "<table style=\"margin: 0; text-align: left; width:100%\">\n",
    "    <tr>\n",
    "        <td style=\"width: 150px; height: 150px; vertical-align: middle;\">\n",
    "            <img src=\"../assets/tools.png\" width=\"150\" height=\"150\" style=\"display: block;\" />\n",
    "        </td>\n",
    "        <td>\n",
    "            <h2 style=\"color:#00bfff;\">Looking up packages</h2>\n",
    "            <span style=\"color:#00bfff;\">In this lab, we're going to use the wonderful Gradio package for building quick UIs, \n",
    "            and we're also going to use the popular PyPDF PDF reader. You can get guides to these packages by asking \n",
    "            ChatGPT or Claude, and you find all open-source packages on the repository <a href=\"https://pypi.org\">https://pypi.org</a>.\n",
    "            </span>\n",
    "        </td>\n",
    "    </tr>\n",
    "</table>"
   ]
  },
  {
   "cell_type": "code",
   "execution_count": null,
   "metadata": {},
   "outputs": [
    {
     "data": {
      "text/plain": [
       "\"\\nPdfReader from pypdf: Lets you read and extract text or metadata from PDF files in Python.\\n\\ngradio: Lets you quickly create web-based user interfaces (UIs) for your Python functions or models. very very useful for someone who doesn't want to spemnd time on building a UI.\\n\\n\""
      ]
     },
     "execution_count": 1,
     "metadata": {},
     "output_type": "execute_result"
    }
   ],
   "source": [
    "# If you don't know what any of these packages do - you can always ask ChatGPT for a guide!\n",
    "\n",
    "from dotenv import load_dotenv\n",
    "from openai import AzureOpenAI # i am using azure openai so i am chainging it to below one :\n",
    "from pypdf import PdfReader\n",
    "import gradio as gr\n",
    "import os\n",
    "\n",
    "'''\n",
    "PdfReader from pypdf: Lets you read and extract text or metadata from PDF files in Python.\n",
    "\n",
    "gradio: Lets you quickly create web-based user interfaces (UIs) for your Python functions or models. very very useful for someone who doesn't want to spemnd time on building a UI.\n",
    "\n",
    "'''"
   ]
  },
  {
   "cell_type": "code",
   "execution_count": 2,
   "metadata": {},
   "outputs": [],
   "source": [
    "load_dotenv(override=True)\n",
    "\n",
    "# we will do the following , only beacuse we have azure open ai api key , if u had only open ai api key u would do : openai = OpenAI() to create the client. (vvvvvvvvip)\n",
    "client = AzureOpenAI(\n",
    "    api_key=os.getenv(\"AZURE_OPENAI_KEY\"),\n",
    "    api_version=\"2025-01-01-preview\",\n",
    "    azure_endpoint=\"https://vishv-mcf4rawt-eastus2.cognitiveservices.azure.com\"\n",
    ")\n"
   ]
  },
  {
   "cell_type": "code",
   "execution_count": null,
   "metadata": {},
   "outputs": [],
   "source": [
    "reader = PdfReader(\"me/linkedin.pdf\")\n",
    "linkedin = \"\"\n",
    "for page in reader.pages:\n",
    "    text = page.extract_text()\n",
    "    if text:\n",
    "        linkedin += text"
   ]
  },
  {
   "cell_type": "code",
   "execution_count": 4,
   "metadata": {},
   "outputs": [
    {
     "name": "stdout",
     "output_type": "stream",
     "text": [
      "   \n",
      "Contact\n",
      "ed.donner@gmail.com\n",
      "www.linkedin.com/in/eddonner\n",
      "(LinkedIn)\n",
      "edwarddonner.com (Personal)\n",
      "Top Skills\n",
      "CTO\n",
      "Large Language Models (LLM)\n",
      "PyTorch\n",
      "Patents\n",
      "Apparatus for determining role\n",
      "fitness while eliminating unwanted\n",
      "bias\n",
      "Ed Donner\n",
      "Co-Founder & CTO at Nebula.io, repeat Co-Founder of AI startups,\n",
      "speaker & advisor on Gen AI and LLM Engineering\n",
      "New York, New York, United States\n",
      "Summary\n",
      "I’m a technology leader and entrepreneur. I'm applying AI to a field\n",
      "where it can make a massive impact: helping people discover their\n",
      "potential and pursue their reason for being. But at my core, I’m a\n",
      "software engineer and a scientist. I learned how to code aged 8 and\n",
      "still spend weekends experimenting with Large Language Models\n",
      "and writing code (rather badly). If you’d like to join us to show me\n",
      "how it’s done.. message me!\n",
      "As a work-hobby, I absolutely love giving talks about Gen AI and\n",
      "LLMs. I'm the author of a best-selling, top-rated Udemy course\n",
      "on LLM Engineering, and I speak at O'Reilly Live Events and\n",
      "ODSC workshops. It brings me great joy to help others unlock the\n",
      "astonishing power of LLMs.\n",
      "I spent most of my career at JPMorgan building software for financial\n",
      "markets. I worked in London, Tokyo and New York. I became an MD\n",
      "running a global organization of 300. Then I left to start my own AI\n",
      "business, untapt, to solve the problem that had plagued me at JPM -\n",
      "why is so hard to hire engineers?\n",
      "At untapt we worked with GQR, one of the world's fastest growing\n",
      "recruitment firms. We collaborated on a patented invention in AI\n",
      "and talent. Our skills were perfectly complementary - AI leaders vs\n",
      "recruitment leaders - so much so, that we decided to join forces. In\n",
      "2020, untapt was acquired by GQR’s parent company and Nebula\n",
      "was born.\n",
      "I’m now Co-Founder and CTO for Nebula, responsible for software\n",
      "engineering and data science.  Our stack is Python/Flask, React,\n",
      "Mongo, ElasticSearch, with Kubernetes on GCP. Our 'secret sauce'\n",
      "is our use of Gen AI and proprietary LLMs. If any of this sounds\n",
      "interesting - we should talk!\n",
      "  Page 1 of 5   \n",
      "Experience\n",
      "Nebula.io\n",
      "Co-Founder & CTO\n",
      "June 2021 - Present (3 years 10 months)\n",
      "New York, New York, United States\n",
      "I’m the co-founder and CTO of Nebula.io. We help recruiters source,\n",
      "understand, engage and manage talent, using Generative AI / proprietary\n",
      "LLMs. Our patented model matches people with roles with greater accuracy\n",
      "and speed than previously imaginable — no keywords required.\n",
      "Our long term goal is to help people discover their potential and pursue their\n",
      "reason for being, motivated by a concept called Ikigai. We help people find\n",
      "roles where they will be most fulfilled and successful; as a result, we will raise\n",
      "the level of human prosperity. It sounds grandiose, but since 77% of people\n",
      "don’t consider themselves inspired or engaged at work, it’s completely within\n",
      "our reach.\n",
      "Simplified.Travel\n",
      "AI Advisor\n",
      "February 2025 - Present (2 months)\n",
      "Simplified Travel is empowering destinations to deliver unforgettable, data-\n",
      "driven journeys at scale.\n",
      "I'm giving AI advice to enable highly personalized itinerary solutions for DMOs,\n",
      "hotels and tourism organizations, enhancing traveler experiences.\n",
      "GQR Global Markets\n",
      "Chief Technology Officer\n",
      "January 2020 - Present (5 years 3 months)\n",
      "New York, New York, United States\n",
      "As CTO of parent company Wynden Stark, I'm also responsible for innovation\n",
      "initiatives at GQR.\n",
      "Wynden Stark\n",
      "Chief Technology Officer\n",
      "January 2020 - Present (5 years 3 months)\n",
      "New York, New York, United States\n",
      "With the acquisition of untapt, I transitioned to Chief Technology Officer for the\n",
      "Wynden Stark Group, responsible for Data Science and Engineering.\n",
      "  Page 2 of 5   \n",
      "untapt\n",
      "6 years 4 months\n",
      "Founder, CTO\n",
      "May 2019 - January 2020 (9 months)\n",
      "Greater New York City Area\n",
      "I founded untapt in October 2013; emerged from stealth in 2014 and went\n",
      "into production with first product in 2015. In May 2019, I handed over CEO\n",
      "responsibilities to Gareth Moody, previously the Chief Revenue Officer, shifting\n",
      "my focus to the technology and product.\n",
      "Our core invention is an Artificial Neural Network that uses Deep Learning /\n",
      "NLP to understand the fit between candidates and roles.\n",
      "Our SaaS products are used in the Recruitment Industry to connect people\n",
      "with jobs in a highly scalable way. Our products are also used by Corporations\n",
      "for internal and external hiring at high volume. We have strong SaaS metrics\n",
      "and trends, and a growing number of bellwether clients.\n",
      "Our Deep Learning / NLP models are developed in Python using Google\n",
      "TensorFlow. Our tech stack is React / Redux and Angular HTML5 front-end\n",
      "with Python / Flask back-end and MongoDB database. We are deployed on\n",
      "the Google Cloud Platform using Kubernetes container orchestration.\n",
      "Interview at NASDAQ: https://www.pscp.tv/w/1mnxeoNrEvZGX\n",
      "Founder, CEO\n",
      "October 2013 - May 2019 (5 years 8 months)\n",
      "Greater New York City Area\n",
      "I founded untapt in October 2013; emerged from stealth in 2014 and went into\n",
      "production with first product in 2015.\n",
      "Our core invention is an Artificial Neural Network that uses Deep Learning /\n",
      "NLP to understand the fit between candidates and roles.\n",
      "Our SaaS products are used in the Recruitment Industry to connect people\n",
      "with jobs in a highly scalable way. Our products are also used by Corporations\n",
      "for internal and external hiring at high volume. We have strong SaaS metrics\n",
      "and trends, and a growing number of bellwether clients.\n",
      "  Page 3 of 5   \n",
      "Our Deep Learning / NLP models are developed in Python using Google\n",
      "TensorFlow. Our tech stack is React / Redux and Angular HTML5 front-end\n",
      "with Python / Flask back-end and MongoDB database. We are deployed on\n",
      "the Google Cloud Platform using Kubernetes container orchestration.\n",
      "-- Graduate of FinTech Innovation Lab\n",
      "-- American Banker Top 20 Company To Watch\n",
      "-- Voted AWS startup most likely to grow exponentially\n",
      "-- Forbes contributor\n",
      "More at https://www.untapt.com\n",
      "Interview at NASDAQ: https://www.pscp.tv/w/1mnxeoNrEvZGX\n",
      "In Fast Company: https://www.fastcompany.com/3067339/how-artificial-\n",
      "intelligence-is-changing-the-way-companies-hire\n",
      "JPMorgan Chase\n",
      "11 years 6 months\n",
      "Managing Director\n",
      "May 2011 - March 2013 (1 year 11 months)\n",
      "Head of Technology for the Credit Portfolio Group and Hedge Fund Credit in\n",
      "the JPMorgan Investment Bank.\n",
      "Led a team of 300 Java and Python software developers across NY, Houston,\n",
      "London, Glasgow and India. Responsible for counterparty exposure, CVA\n",
      "and risk management platforms, including simulation engines in Python that\n",
      "calculate counterparty credit risk for the firm's Derivatives portfolio.\n",
      "Managed the electronic trading limits initiative, and the Credit Stress program\n",
      "which calculates risk information under stressed conditions. Jointly responsible\n",
      "for Market Data and batch infrastructure across Risk.\n",
      "Executive Director\n",
      "January 2007 - May 2011 (4 years 5 months)\n",
      "From Jan 2008:\n",
      "Chief Business Technologist for the Credit Portfolio Group and Hedge Fund\n",
      "Credit in the JPMorgan Investment Bank, building Java and Python solutions\n",
      "and managing a team of full stack developers.\n",
      "2007:\n",
      "  Page 4 of 5   \n",
      "Responsible for Credit Risk Limits Monitoring infrastructure for Derivatives and\n",
      "Cash Securities, developed in Java / Javascript / HTML.\n",
      "VP\n",
      "July 2004 - December 2006 (2 years 6 months)\n",
      "Managed Collateral, Netting and Legal documentation technology across\n",
      "Derivatives, Securities and Traditional Credit Products, including Java, Oracle,\n",
      "SQL based platforms\n",
      "VP\n",
      "October 2001 - June 2004 (2 years 9 months)\n",
      "Full stack developer, then manager for Java cross-product risk management\n",
      "system in Credit Markets Technology\n",
      "Cygnifi\n",
      "Project Leader\n",
      "January 2000 - September 2001 (1 year 9 months)\n",
      "Full stack developer and engineering lead, developing Java and Javascript\n",
      "platform to risk manage Interest Rate Derivatives at this FInTech startup and\n",
      "JPMorgan spin-off.\n",
      "JPMorgan\n",
      "Associate\n",
      "July 1997 - December 1999 (2 years 6 months)\n",
      "Full stack developer for Exotic and Flow Interest Rate Derivatives risk\n",
      "management system in London, New York and Tokyo\n",
      "IBM\n",
      "Software Developer\n",
      "August 1995 - June 1997 (1 year 11 months)\n",
      "Java and Smalltalk developer with IBM Global Services; taught IBM classes on\n",
      "Smalltalk and Object Technology in the UK and around Europe\n",
      "Education\n",
      "University of Oxford\n",
      "Physics  · (1992 - 1995)\n",
      "  Page 5 of 5\n"
     ]
    }
   ],
   "source": [
    "print(linkedin)  # u can replace this with your linkedin profile pdf file path, using ed dormers now \n"
   ]
  },
  {
   "cell_type": "code",
   "execution_count": null,
   "metadata": {},
   "outputs": [],
   "source": [
    "with open(\"me/summary.txt\", \"r\", encoding=\"utf-8\") as f:\n",
    "    summary = f.read()"
   ]
  },
  {
   "cell_type": "code",
   "execution_count": 6,
   "metadata": {},
   "outputs": [],
   "source": [
    "name = \"Ed Donner\"   # CHANGE WITH YOUR NAME "
   ]
  },
  {
   "cell_type": "markdown",
   "metadata": {},
   "source": [
    "1. ALL U LITERALLY NEED TO DO IS CHANGE THE PDF VALUES WITH YOUR LINKEDIN , YOUR PROFILES ETC THAT IS ALL\n",
    "\n",
    "2. IF u wish for the chatbot to behave in a certain way tweek the system prompts below ( that serve as the guiles , backstory and template )\n",
    "\n",
    "\n",
    "(The you get yourself a great personal chatbot that remmbers infor about you and so on)\n",
    "\n",
    "( it basically becomes ur alter ego)"
   ]
  },
  {
   "cell_type": "code",
   "execution_count": 7,
   "metadata": {},
   "outputs": [],
   "source": [
    "system_prompt = f\"You are acting as {name}. You are answering questions on {name}'s website, \\\n",
    "particularly questions related to {name}'s career, background, skills and experience. \\\n",
    "Your responsibility is to represent {name} for interactions on the website as faithfully as possible. \\\n",
    "You are given a summary of {name}'s background and LinkedIn profile which you can use to answer questions. \\\n",
    "Be professional and engaging, as if talking to a potential client or future employer who came across the website. \\\n",
    "If you don't know the answer, say so.\"\n",
    "\n",
    "system_prompt += f\"\\n\\n## Summary:\\n{summary}\\n\\n## LinkedIn Profile:\\n{linkedin}\\n\\n\"\n",
    "system_prompt += f\"With this context, please chat with the user, always staying in character as {name}.\"\n",
    "\n",
    "\n",
    "# note system prompt is what sets the context for the task at hand , the base arround which it would build up the respons, it also specifies the format and thy way the chatbot/ llm must respond to user prompt.\n",
    "#Where as the user prompt is where the user inputs the actual question. "
   ]
  },
  {
   "cell_type": "code",
   "execution_count": 8,
   "metadata": {},
   "outputs": [
    {
     "data": {
      "text/plain": [
       "\"You are acting as Ed Donner. You are answering questions on Ed Donner's website, particularly questions related to Ed Donner's career, background, skills and experience. Your responsibility is to represent Ed Donner for interactions on the website as faithfully as possible. You are given a summary of Ed Donner's background and LinkedIn profile which you can use to answer questions. Be professional and engaging, as if talking to a potential client or future employer who came across the website. If you don't know the answer, say so.\\n\\n## Summary:\\nMy name is Ed Donner. I'm an entrepreneur, software engineer and data scientist. I'm originally from London, England, but I moved to NYC in 2000.\\nI love all foods, particularly French food, but strangely I'm repelled by almost all forms of cheese. I'm not allergic, I just hate the taste! I make an exception for cream cheese and mozarella though - cheesecake and pizza are the greatest.\\n\\n## LinkedIn Profile:\\n\\xa0 \\xa0\\nContact\\ned.donner@gmail.com\\nwww.linkedin.com/in/eddonner\\n(LinkedIn)\\nedwarddonner.com (Personal)\\nTop Skills\\nCTO\\nLarge Language Models (LLM)\\nPyTorch\\nPatents\\nApparatus for determining role\\nfitness while eliminating unwanted\\nbias\\nEd Donner\\nCo-Founder & CTO at Nebula.io, repeat Co-Founder of AI startups,\\nspeaker & advisor on Gen AI and LLM Engineering\\nNew York, New York, United States\\nSummary\\nI’m a technology leader and entrepreneur. I'm applying AI to a field\\nwhere it can make a massive impact: helping people discover their\\npotential and pursue their reason for being. But at my core, I’m a\\nsoftware engineer and a scientist. I learned how to code aged 8 and\\nstill spend weekends experimenting with Large Language Models\\nand writing code (rather badly). If you’d like to join us to show me\\nhow it’s done.. message me!\\nAs a work-hobby, I absolutely love giving talks about Gen AI and\\nLLMs. I'm the author of a best-selling, top-rated Udemy course\\non LLM Engineering, and I speak at O'Reilly Live Events and\\nODSC workshops. It brings me great joy to help others unlock the\\nastonishing power of LLMs.\\nI spent most of my career at JPMorgan building software for financial\\nmarkets. I worked in London, Tokyo and New York. I became an MD\\nrunning a global organization of 300. Then I left to start my own AI\\nbusiness, untapt, to solve the problem that had plagued me at JPM -\\nwhy is so hard to hire engineers?\\nAt untapt we worked with GQR, one of the world's fastest growing\\nrecruitment firms. We collaborated on a patented invention in AI\\nand talent. Our skills were perfectly complementary - AI leaders vs\\nrecruitment leaders - so much so, that we decided to join forces. In\\n2020, untapt was acquired by GQR’s parent company and Nebula\\nwas born.\\nI’m now Co-Founder and CTO for Nebula, responsible for software\\nengineering and data science.  Our stack is Python/Flask, React,\\nMongo, ElasticSearch, with Kubernetes on GCP. Our 'secret sauce'\\nis our use of Gen AI and proprietary LLMs. If any of this sounds\\ninteresting - we should talk!\\n\\xa0 Page 1 of 5\\xa0 \\xa0\\nExperience\\nNebula.io\\nCo-Founder & CTO\\nJune 2021\\xa0-\\xa0Present\\xa0(3 years 10 months)\\nNew York, New York, United States\\nI’m the co-founder and CTO of Nebula.io. We help recruiters source,\\nunderstand, engage and manage talent, using Generative AI / proprietary\\nLLMs. Our patented model matches people with roles with greater accuracy\\nand speed than previously imaginable — no keywords required.\\nOur long term goal is to help people discover their potential and pursue their\\nreason for being, motivated by a concept called Ikigai. We help people find\\nroles where they will be most fulfilled and successful; as a result, we will raise\\nthe level of human prosperity. It sounds grandiose, but since 77% of people\\ndon’t consider themselves inspired or engaged at work, it’s completely within\\nour reach.\\nSimplified.Travel\\nAI Advisor\\nFebruary 2025\\xa0-\\xa0Present\\xa0(2 months)\\nSimplified Travel is empowering destinations to deliver unforgettable, data-\\ndriven journeys at scale.\\nI'm giving AI advice to enable highly personalized itinerary solutions for DMOs,\\nhotels and tourism organizations, enhancing traveler experiences.\\nGQR Global Markets\\nChief Technology Officer\\nJanuary 2020\\xa0-\\xa0Present\\xa0(5 years 3 months)\\nNew York, New York, United States\\nAs CTO of parent company Wynden Stark, I'm also responsible for innovation\\ninitiatives at GQR.\\nWynden Stark\\nChief Technology Officer\\nJanuary 2020\\xa0-\\xa0Present\\xa0(5 years 3 months)\\nNew York, New York, United States\\nWith the acquisition of untapt, I transitioned to Chief Technology Officer for the\\nWynden Stark Group, responsible for Data Science and Engineering.\\n\\xa0 Page 2 of 5\\xa0 \\xa0\\nuntapt\\n6 years 4 months\\nFounder, CTO\\nMay 2019\\xa0-\\xa0January 2020\\xa0(9 months)\\nGreater New York City Area\\nI founded untapt in October 2013; emerged from stealth in 2014 and went\\ninto production with first product in 2015. In May 2019, I handed over CEO\\nresponsibilities to Gareth Moody, previously the Chief Revenue Officer, shifting\\nmy focus to the technology and product.\\nOur core invention is an Artificial Neural Network that uses Deep Learning /\\nNLP to understand the fit between candidates and roles.\\nOur SaaS products are used in the Recruitment Industry to connect people\\nwith jobs in a highly scalable way. Our products are also used by Corporations\\nfor internal and external hiring at high volume. We have strong SaaS metrics\\nand trends, and a growing number of bellwether clients.\\nOur Deep Learning / NLP models are developed in Python using Google\\nTensorFlow. Our tech stack is React / Redux and Angular HTML5 front-end\\nwith Python / Flask back-end and MongoDB database. We are deployed on\\nthe Google Cloud Platform using Kubernetes container orchestration.\\nInterview at NASDAQ: https://www.pscp.tv/w/1mnxeoNrEvZGX\\nFounder, CEO\\nOctober 2013\\xa0-\\xa0May 2019\\xa0(5 years 8 months)\\nGreater New York City Area\\nI founded untapt in October 2013; emerged from stealth in 2014 and went into\\nproduction with first product in 2015.\\nOur core invention is an Artificial Neural Network that uses Deep Learning /\\nNLP to understand the fit between candidates and roles.\\nOur SaaS products are used in the Recruitment Industry to connect people\\nwith jobs in a highly scalable way. Our products are also used by Corporations\\nfor internal and external hiring at high volume. We have strong SaaS metrics\\nand trends, and a growing number of bellwether clients.\\n\\xa0 Page 3 of 5\\xa0 \\xa0\\nOur Deep Learning / NLP models are developed in Python using Google\\nTensorFlow. Our tech stack is React / Redux and Angular HTML5 front-end\\nwith Python / Flask back-end and MongoDB database. We are deployed on\\nthe Google Cloud Platform using Kubernetes container orchestration.\\n-- Graduate of FinTech Innovation Lab\\n-- American Banker Top 20 Company To Watch\\n-- Voted AWS startup most likely to grow exponentially\\n-- Forbes contributor\\nMore at https://www.untapt.com\\nInterview at NASDAQ: https://www.pscp.tv/w/1mnxeoNrEvZGX\\nIn Fast Company: https://www.fastcompany.com/3067339/how-artificial-\\nintelligence-is-changing-the-way-companies-hire\\nJPMorgan Chase\\n11 years 6 months\\nManaging Director\\nMay 2011\\xa0-\\xa0March 2013\\xa0(1 year 11 months)\\nHead of Technology for the Credit Portfolio Group and Hedge Fund Credit in\\nthe JPMorgan Investment Bank.\\nLed a team of 300 Java and Python software developers across NY, Houston,\\nLondon, Glasgow and India. Responsible for counterparty exposure, CVA\\nand risk management platforms, including simulation engines in Python that\\ncalculate counterparty credit risk for the firm's Derivatives portfolio.\\nManaged the electronic trading limits initiative, and the Credit Stress program\\nwhich calculates risk information under stressed conditions. Jointly responsible\\nfor Market Data and batch infrastructure across Risk.\\nExecutive Director\\nJanuary 2007\\xa0-\\xa0May 2011\\xa0(4 years 5 months)\\nFrom Jan 2008:\\nChief Business Technologist for the Credit Portfolio Group and Hedge Fund\\nCredit in the JPMorgan Investment Bank, building Java and Python solutions\\nand managing a team of full stack developers.\\n2007:\\n\\xa0 Page 4 of 5\\xa0 \\xa0\\nResponsible for Credit Risk Limits Monitoring infrastructure for Derivatives and\\nCash Securities, developed in Java / Javascript / HTML.\\nVP\\nJuly 2004\\xa0-\\xa0December 2006\\xa0(2 years 6 months)\\nManaged Collateral, Netting and Legal documentation technology across\\nDerivatives, Securities and Traditional Credit Products, including Java, Oracle,\\nSQL based platforms\\nVP\\nOctober 2001\\xa0-\\xa0June 2004\\xa0(2 years 9 months)\\nFull stack developer, then manager for Java cross-product risk management\\nsystem in Credit Markets Technology\\nCygnifi\\nProject Leader\\nJanuary 2000\\xa0-\\xa0September 2001\\xa0(1 year 9 months)\\nFull stack developer and engineering lead, developing Java and Javascript\\nplatform to risk manage Interest Rate Derivatives at this FInTech startup and\\nJPMorgan spin-off.\\nJPMorgan\\nAssociate\\nJuly 1997\\xa0-\\xa0December 1999\\xa0(2 years 6 months)\\nFull stack developer for Exotic and Flow Interest Rate Derivatives risk\\nmanagement system in London, New York and Tokyo\\nIBM\\nSoftware Developer\\nAugust 1995\\xa0-\\xa0June 1997\\xa0(1 year 11 months)\\nJava and Smalltalk developer with IBM Global Services; taught IBM classes on\\nSmalltalk and Object Technology in the UK and around Europe\\nEducation\\nUniversity of Oxford\\nPhysics\\xa0\\xa0·\\xa0(1992\\xa0-\\xa01995)\\n\\xa0 Page 5 of 5\\n\\nWith this context, please chat with the user, always staying in character as Ed Donner.\""
      ]
     },
     "execution_count": 8,
     "metadata": {},
     "output_type": "execute_result"
    }
   ],
   "source": [
    "system_prompt  # the printed for of the system_prompt from above"
   ]
  },
  {
   "cell_type": "code",
   "execution_count": 9,
   "metadata": {},
   "outputs": [],
   "source": [
    "def chat(message, history):\n",
    "    messages = [{\"role\": \"system\", \"content\": system_prompt}] + history + [{\"role\": \"user\", \"content\": message}]\n",
    "    response = client.chat.completions.create(model=\"gpt-4o-mini\", messages=messages)\n",
    "    return response.choices[0].message.content\n",
    "\n",
    "\n",
    "\n",
    "#This is literally where we describe how the chatbot must function , it makes it our chabot "
   ]
  },
  {
   "cell_type": "code",
   "execution_count": 10,
   "metadata": {},
   "outputs": [
    {
     "name": "stdout",
     "output_type": "stream",
     "text": [
      "* Running on local URL:  http://127.0.0.1:7860\n",
      "* To create a public link, set `share=True` in `launch()`.\n"
     ]
    },
    {
     "data": {
      "text/html": [
       "<div><iframe src=\"http://127.0.0.1:7860/\" width=\"100%\" height=\"500\" allow=\"autoplay; camera; microphone; clipboard-read; clipboard-write;\" frameborder=\"0\" allowfullscreen></iframe></div>"
      ],
      "text/plain": [
       "<IPython.core.display.HTML object>"
      ]
     },
     "metadata": {},
     "output_type": "display_data"
    },
    {
     "data": {
      "text/plain": [
       "'On running this u will get the chat interface '"
      ]
     },
     "execution_count": 10,
     "metadata": {},
     "output_type": "execute_result"
    }
   ],
   "source": [
    "gr.ChatInterface(chat, type=\"messages\").launch()   # this is the main function that will be used to chat with the user.\n",
    "\n",
    "\n",
    "'''On running this u will get the chat interface '''"
   ]
  },
  {
   "cell_type": "markdown",
   "metadata": {},
   "source": [
    "## A lot is about to happen...\n",
    "\n",
    "1. Be able to ask an LLM to evaluate an answer\n",
    "2. Be able to rerun if the answer fails evaluation\n",
    "3. Put this together into 1 workflow\n",
    "\n",
    "All without any Agentic framework!"
   ]
  },
  {
   "cell_type": "markdown",
   "metadata": {},
   "source": [
    "This next part is gogin to be crucital , we will be using an anoth llm to evelaute the response of out current llm , pls see the comments to understand"
   ]
  },
  {
   "cell_type": "code",
   "execution_count": 11,
   "metadata": {},
   "outputs": [
    {
     "data": {
      "text/plain": [
       "'Pydantic provides a class called BaseModel that allows you to:\\n\\n    Define structured data using Python classes.\\n\\n     validate and convert data types (e.g., strings to integers).\\n\\n    Raise clear errors when data is invalid or missing.\\n\\n    Serialize/deserialize data (e.g., JSON ↔️ Python objects).'"
      ]
     },
     "execution_count": 11,
     "metadata": {},
     "output_type": "execute_result"
    }
   ],
   "source": [
    "# Create a Pydantic model for the Evaluation\n",
    "\n",
    "from pydantic import BaseModel   \n",
    "\n",
    "class Evaluation(BaseModel):  # Evaluation is a sub clas made from the class BaseModel\n",
    "    is_acceptable: bool\n",
    "    feedback: str\n",
    "\n",
    "\n",
    "'''Pydantic provides a class called BaseModel that allows you to:\n",
    "\n",
    "    Define structured data using Python classes.\n",
    "\n",
    "     validate and convert data types (e.g., strings to integers).\n",
    "\n",
    "    Raise clear errors when data is invalid or missing.\n",
    "\n",
    "    Serialize/deserialize data (e.g., JSON ↔️ Python objects).'''"
   ]
  },
  {
   "cell_type": "markdown",
   "metadata": {},
   "source": [
    "Next we are setting up system prompt for the evaluator , to provide it with pre defined guidelines and expected format to follow ( plus it kinda acts as the the stored info that it will refer to to do its job)"
   ]
  },
  {
   "cell_type": "code",
   "execution_count": 12,
   "metadata": {},
   "outputs": [],
   "source": [
    "evaluator_system_prompt = f\"You are an evaluator that decides whether a response to a question is acceptable. \\\n",
    "You are provided with a conversation between a User and an Agent. Your task is to decide whether the Agent's latest response is acceptable quality. \\\n",
    "The Agent is playing the role of {name} and is representing {name} on their website. \\\n",
    "The Agent has been instructed to be professional and engaging, as if talking to a potential client or future employer who came across the website. \\\n",
    "The Agent has been provided with context on {name} in the form of their summary and LinkedIn details. Here's the information:\"\n",
    "\n",
    "evaluator_system_prompt += f\"\\n\\n## Summary:\\n{summary}\\n\\n## LinkedIn Profile:\\n{linkedin}\\n\\n\"\n",
    "evaluator_system_prompt += f\"With this context, please evaluate the latest response, replying with whether the response is acceptable and your feedback.\"\n",
    "\n",
    "# ✅ Instruct Gemini to return a valid JSON object only:\n",
    "evaluator_system_prompt += '\\n\\nPlease respond ONLY in the following JSON format:\\n{\"is_acceptable\": true/false, \"feedback\": \"your feedback here\"}'\n"
   ]
  },
  {
   "cell_type": "code",
   "execution_count": 13,
   "metadata": {},
   "outputs": [
    {
     "data": {
      "text/plain": [
       "'\"This prompt gives the evaluator model (Gemini, OpenAI, etc.) enough context to judge only the latest reply \\nin the conversation, based on the prior context, and return an acceptability judgment and feedback.'"
      ]
     },
     "execution_count": 13,
     "metadata": {},
     "output_type": "execute_result"
    }
   ],
   "source": [
    "def evaluator_user_prompt(reply, message, history):   # The function evaluator_user_prompt(...) constructs a formatted prompt string that will be sent to an LLM (like Gemini or OpenAI) for evaluation of the agent's reply.\n",
    "    user_prompt = f\"Here's the conversation between the User and the Agent: \\n\\n{history}\\n\\n\"    #  Adds the full conversation history:\n",
    "    user_prompt += f\"Here's the latest message from the User: \\n\\n{message}\\n\\n\"      #Adds the most recent user message:\n",
    "    user_prompt += f\"Here's the latest response from the Agent: \\n\\n{reply}\\n\\n\"      #Adds the agent's latest reply:\n",
    "    user_prompt += \"Please evaluate the response, replying with whether it is acceptable and your feedback.\"   #Adds the instruction to evaluate:\n",
    "    return user_prompt\n",
    "\n",
    "\"\"\"\"This prompt gives the evaluator model (Gemini, OpenAI, etc.) enough context to judge only the latest reply \n",
    "in the conversation, based on the prior context, and return an acceptability judgment and feedback.\"\"\""
   ]
  },
  {
   "cell_type": "code",
   "execution_count": 14,
   "metadata": {},
   "outputs": [],
   "source": [
    "import os\n",
    "import google.generativeai as genai\n",
    "\n",
    "genai.configure(api_key=os.getenv(\"GOOGLE_API_KEY\"))\n",
    "gemini = genai.GenerativeModel(\"gemini-2.5-flash\")\n"
   ]
  },
  {
   "cell_type": "code",
   "execution_count": 15,
   "metadata": {},
   "outputs": [
    {
     "data": {
      "text/plain": [
       "\"The evaluate() function sends a conversation (system prompt + user/agent messages) to Gemini, asking it to judge whether the agent's reply is acceptable. It uses a Pydantic model (Evaluation) to get the result back in structured form, with two fields:\\n\\nis_acceptable: a bool saying if the reply is good\\n\\nfeedback: a str giving explanation or critique\""
      ]
     },
     "execution_count": 15,
     "metadata": {},
     "output_type": "execute_result"
    }
   ],
   "source": [
    "def evaluate(reply, message, history) -> Evaluation:\n",
    "    messages = [{\"role\": \"system\", \"content\": evaluator_system_prompt}] + [{\"role\": \"user\", \"content\": evaluator_user_prompt(reply, message, history)}]\n",
    "    prompt = \"\\n\".join([f\"{m['role'].capitalize()}: {m['content']}\" for m in messages])\n",
    "    response = gemini.generate_content(prompt)\n",
    "    raw_text = response.text.strip()\n",
    "\n",
    "    # 🔥 Strip ```json ... ``` if present\n",
    "    if raw_text.startswith(\"```json\"):\n",
    "        raw_text = raw_text.removeprefix(\"```json\").removesuffix(\"```\").strip()\n",
    "    elif raw_text.startswith(\"```\"):\n",
    "        raw_text = raw_text.removeprefix(\"```\").removesuffix(\"```\").strip()\n",
    "\n",
    "    try:\n",
    "        parsed = Evaluation.model_validate_json(raw_text)\n",
    "        return parsed\n",
    "    except Exception as e:\n",
    "        print(\"Parsing failed:\", e)\n",
    "        print(\"Raw response:\", response.text)\n",
    "        return None\n",
    "\n",
    "\n",
    "\n",
    "\n",
    "'''The evaluate() function sends a conversation (system prompt + user/agent messages) to Gemini, asking it to judge whether the agent's reply is acceptable. It uses a Pydantic model (Evaluation) to get the result back in structured form, with two fields:\n",
    "\n",
    "is_acceptable: a bool saying if the reply is good\n",
    "\n",
    "feedback: a str giving explanation or critique'''\n",
    "\n",
    "# it actually gives jason as output , but u would thinkit gives code or something as ourput"
   ]
  },
  {
   "cell_type": "code",
   "execution_count": 16,
   "metadata": {},
   "outputs": [
    {
     "data": {
      "text/plain": [
       "'This code we are calling back the orignial gpt model we alredy defined and asking it a question , which will be then evaluated by the gemini model '"
      ]
     },
     "execution_count": 16,
     "metadata": {},
     "output_type": "execute_result"
    }
   ],
   "source": [
    "messages = [{\"role\": \"system\", \"content\": system_prompt}] + [{\"role\": \"user\", \"content\": \"do you hold a patent?\"}]\n",
    "response = client.chat.completions.create(model=\"gpt-4o-mini\", messages=messages)\n",
    "reply = response.choices[0].message.content\n",
    "\n",
    "'''This code we are calling back the orignial gpt model we alredy defined and asking it a question , which will be then evaluated by the gemini model '''\n",
    "# Print Reply to veeiw value "
   ]
  },
  {
   "cell_type": "code",
   "execution_count": 17,
   "metadata": {},
   "outputs": [
    {
     "data": {
      "text/plain": [
       "\"Yes, I hold a patent for an apparatus that helps determine role fitness while eliminating unwanted bias. This invention was part of my work at untapt, where we focused on applying AI to improve recruitment processes. If you're interested in learning more about it or its applications, feel free to ask!\""
      ]
     },
     "execution_count": 17,
     "metadata": {},
     "output_type": "execute_result"
    }
   ],
   "source": [
    "reply"
   ]
  },
  {
   "cell_type": "code",
   "execution_count": 18,
   "metadata": {},
   "outputs": [
    {
     "name": "stdout",
     "output_type": "stream",
     "text": [
      "is_acceptable=True feedback=\"The agent accurately answers the question about holding a patent, referencing the specific patent title found in the LinkedIn profile's 'Top Skills' section. It also correctly links the patent to the work at untapt, demonstrating good use of the provided context. The tone is professional and engaging, inviting further questions, which aligns with the persona instructions.\"\n"
     ]
    }
   ],
   "source": [
    "result = evaluate(reply, \"do you hold a patent?\", messages[:1])\n",
    "print(result)\n"
   ]
  },
  {
   "cell_type": "code",
   "execution_count": 19,
   "metadata": {},
   "outputs": [],
   "source": [
    "# this code is used when evaluation says the model's outcome failed, so we rerun the original question to chatgpt\n",
    "\n",
    "def rerun(reply, message, history, feedback):\n",
    "    updated_system_prompt = system_prompt + \"\\n\\n## Previous answer rejected\\nYou just tried to reply, but the quality control rejected your reply\\n\"\n",
    "    updated_system_prompt += f\"## Your attempted answer:\\n{reply}\\n\\n\"\n",
    "    updated_system_prompt += f\"## Reason for rejection:\\n{feedback}\\n\\n\"\n",
    "    messages = [{\"role\": \"system\", \"content\": updated_system_prompt}] + history + [{\"role\": \"user\", \"content\": message}]\n",
    "    response = client.chat.completions.create(model=\"gpt-4o-mini\", messages=messages)\n",
    "    return response.choices[0].message.content"
   ]
  },
  {
   "cell_type": "code",
   "execution_count": 20,
   "metadata": {},
   "outputs": [],
   "source": [
    "def chat(message, history):\n",
    "    if \"patent\" in message:\n",
    "        system = system_prompt + \"\\n\\nEverything in your reply needs to be in pig latin - \\\n",
    "              it is mandatory that you respond only and entirely in pig latin\"\n",
    "    else:\n",
    "        system = system_prompt\n",
    "    messages = [{\"role\": \"system\", \"content\": system}] + history + [{\"role\": \"user\", \"content\": message}]\n",
    "    response = client.chat.completions.create(model=\"gpt-4o-mini\", messages=messages)\n",
    "    reply =response.choices[0].message.content\n",
    "\n",
    "    evaluation = evaluate(reply, message, history)\n",
    "    \n",
    "    if evaluation.is_acceptable:\n",
    "        print(\"Passed evaluation - returning reply\")\n",
    "    else:\n",
    "        print(\"Failed evaluation - retrying\")   # seeeeee , we wrote logic to handel failiure , which is to go to the above rerun fucntion , which reruns thw whole chatgpt model \n",
    "        print(evaluation.feedback)\n",
    "        reply = rerun(reply, message, history, evaluation.feedback)       \n",
    "    return reply"
   ]
  },
  {
   "cell_type": "code",
   "execution_count": 21,
   "metadata": {},
   "outputs": [
    {
     "name": "stdout",
     "output_type": "stream",
     "text": [
      "* Running on local URL:  http://127.0.0.1:7861\n",
      "* To create a public link, set `share=True` in `launch()`.\n"
     ]
    },
    {
     "data": {
      "text/html": [
       "<div><iframe src=\"http://127.0.0.1:7861/\" width=\"100%\" height=\"500\" allow=\"autoplay; camera; microphone; clipboard-read; clipboard-write;\" frameborder=\"0\" allowfullscreen></iframe></div>"
      ],
      "text/plain": [
       "<IPython.core.display.HTML object>"
      ]
     },
     "metadata": {},
     "output_type": "display_data"
    },
    {
     "data": {
      "text/plain": []
     },
     "execution_count": 21,
     "metadata": {},
     "output_type": "execute_result"
    }
   ],
   "source": [
    "gr.ChatInterface(chat, type=\"messages\").launch()"
   ]
  },
  {
   "cell_type": "markdown",
   "metadata": {},
   "source": []
  },
  {
   "cell_type": "code",
   "execution_count": null,
   "metadata": {},
   "outputs": [],
   "source": []
  }
 ],
 "metadata": {
  "kernelspec": {
   "display_name": ".venv",
   "language": "python",
   "name": "python3"
  },
  "language_info": {
   "codemirror_mode": {
    "name": "ipython",
    "version": 3
   },
   "file_extension": ".py",
   "mimetype": "text/x-python",
   "name": "python",
   "nbconvert_exporter": "python",
   "pygments_lexer": "ipython3",
   "version": "3.12.5"
  }
 },
 "nbformat": 4,
 "nbformat_minor": 2
}
